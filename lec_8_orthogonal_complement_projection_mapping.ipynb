{
 "cells": [
  {
   "cell_type": "code",
   "execution_count": 1,
   "id": "65bdd164-d670-4597-96b2-b177f539ca55",
   "metadata": {},
   "outputs": [],
   "source": [
    "import numpy as np"
   ]
  },
  {
   "cell_type": "code",
   "execution_count": 2,
   "id": "2fc69b57-e229-432a-833f-14fa64fa5ce1",
   "metadata": {},
   "outputs": [],
   "source": [
    "# vector v (example)\n",
    "v = np.array([3, 4, 5])"
   ]
  },
  {
   "cell_type": "code",
   "execution_count": 3,
   "id": "d5e176aa-cc62-4698-9276-5f77bbff33a8",
   "metadata": {},
   "outputs": [],
   "source": [
    "# subspace W is spanned by vector w\n",
    "w = np.array([1, 0, 0])  # x-axis"
   ]
  },
  {
   "cell_type": "code",
   "execution_count": 4,
   "id": "9b52e3db-5005-4479-bce5-ede775ddd4ce",
   "metadata": {},
   "outputs": [],
   "source": [
    "# projection of v onto w\n",
    "proj_w = (np.dot(v, w) / np.dot(w, w)) * w"
   ]
  },
  {
   "cell_type": "code",
   "execution_count": 5,
   "id": "9f838079-c7af-4e2b-9701-a55e003fb4a1",
   "metadata": {},
   "outputs": [],
   "source": [
    "# orthogonal component\n",
    "v_perp = v - proj_w"
   ]
  },
  {
   "cell_type": "code",
   "execution_count": 6,
   "id": "ad391ce9-27e2-4202-9dec-01c8fc43edb7",
   "metadata": {},
   "outputs": [
    {
     "name": "stdout",
     "output_type": "stream",
     "text": [
      "Original vector v: [3 4 5]\n",
      "Projection onto W: [3. 0. 0.]\n",
      "Component in W⊥: [0. 4. 5.]\n"
     ]
    }
   ],
   "source": [
    "print(\"Original vector v:\", v)\n",
    "print(\"Projection onto W:\", proj_w)\n",
    "print(\"Component in W⊥:\", v_perp)"
   ]
  },
  {
   "cell_type": "code",
   "execution_count": null,
   "id": "dcac7eed-db8c-471f-822f-5fcd9c13b541",
   "metadata": {},
   "outputs": [],
   "source": []
  }
 ],
 "metadata": {
  "kernelspec": {
   "display_name": "Python 3 (ipykernel)",
   "language": "python",
   "name": "python3"
  },
  "language_info": {
   "codemirror_mode": {
    "name": "ipython",
    "version": 3
   },
   "file_extension": ".py",
   "mimetype": "text/x-python",
   "name": "python",
   "nbconvert_exporter": "python",
   "pygments_lexer": "ipython3",
   "version": "3.14.0"
  }
 },
 "nbformat": 4,
 "nbformat_minor": 5
}
