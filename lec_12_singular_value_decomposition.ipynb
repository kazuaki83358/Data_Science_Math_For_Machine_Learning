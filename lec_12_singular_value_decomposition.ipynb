{
 "cells": [
  {
   "cell_type": "code",
   "execution_count": 1,
   "id": "dedf529d-d80d-447b-95b0-e827e7f22eac",
   "metadata": {},
   "outputs": [],
   "source": [
    "import numpy as np\n",
    "import matplotlib.pyplot as plt"
   ]
  },
  {
   "cell_type": "code",
   "execution_count": 2,
   "id": "6d11b81d-19ea-4022-a9ea-b7dc1bafa640",
   "metadata": {},
   "outputs": [],
   "source": [
    "# Step 1: Create a simple 2D dataset (matrix)\n",
    "A = np.array([[3, 1],\n",
    "              [1, 3]])"
   ]
  },
  {
   "cell_type": "code",
   "execution_count": 3,
   "id": "d4de2acf-312e-4188-99d3-f4433489d16a",
   "metadata": {},
   "outputs": [],
   "source": [
    "# Step 2: Perform SVD\n",
    "U, S, VT = np.linalg.svd(A)"
   ]
  },
  {
   "cell_type": "code",
   "execution_count": 5,
   "id": "c072225e-9da5-41dc-9f00-7b8033c05bed",
   "metadata": {},
   "outputs": [
    {
     "name": "stdout",
     "output_type": "stream",
     "text": [
      "U (Left Singular Vectors):\n",
      " [[-0.70710678 -0.70710678]\n",
      " [-0.70710678  0.70710678]]\n"
     ]
    }
   ],
   "source": [
    "print(\"U (Left Singular Vectors):\\n\", U)"
   ]
  },
  {
   "cell_type": "code",
   "execution_count": 6,
   "id": "5ae83914-db25-45cd-8e19-1d079674f814",
   "metadata": {},
   "outputs": [
    {
     "name": "stdout",
     "output_type": "stream",
     "text": [
      "\n",
      "Singular Values (Σ):\n",
      " [4. 2.]\n"
     ]
    }
   ],
   "source": [
    "print(\"\\nSingular Values (Σ):\\n\", S)"
   ]
  },
  {
   "cell_type": "code",
   "execution_count": 7,
   "id": "a03c356c-3f34-4b02-b31c-d3185e81142e",
   "metadata": {},
   "outputs": [
    {
     "name": "stdout",
     "output_type": "stream",
     "text": [
      "\n",
      "V Transpose (Vᵀ):\n",
      " [[-0.70710678 -0.70710678]\n",
      " [-0.70710678  0.70710678]]\n"
     ]
    }
   ],
   "source": [
    "print(\"\\nV Transpose (Vᵀ):\\n\", VT)"
   ]
  },
  {
   "cell_type": "code",
   "execution_count": 14,
   "id": "121b97ea-04f2-43f0-8ac1-0d555f6eee86",
   "metadata": {},
   "outputs": [],
   "source": [
    "# Step 3: Define origins for 2 arrows (for each basis vector)\n",
    "origin = np.zeros((2, 2))  # two origins at (0,0)\n",
    "basis = np.eye(2)          # standard basis vectors (x and y)"
   ]
  },
  {
   "cell_type": "code",
   "execution_count": 24,
   "id": "8f340c6b-64cc-4055-973b-b7b245dcf553",
   "metadata": {},
   "outputs": [
    {
     "data": {
      "image/png": "[encoded data removed]",
      "text/plain": [
       "<Figure size 640x480 with 1 Axes>"
      ]
     },
     "metadata": {},
     "output_type": "display_data"
    }
   ],
   "source": [
    "# Step 4: Transform basis vectors by A\n",
    "transformed_basis = A @ basis\n",
    "# Original basis (gray)\n",
    "plt.quiver(origin[0], origin[1], basis[0], basis[1],\n",
    "           color=['gray','gray'], angles='xy', scale_units='xy', scale=1, label='Original Basis')\n",
    "# Transformed basis by A (red and blue)\n",
    "plt.quiver(origin[0], origin[1], transformed_basis[0], transformed_basis[1],\n",
    "           color=['r','b'], angles='xy', scale_units='xy', scale=1, label='A * Basis')\n",
    "# U vectors scaled by singular values (orange & green)\n",
    "U_scaled = U @ np.diag(S)\n",
    "plt.quiver(origin[0], origin[1], U_scaled[0], U_scaled[1],\n",
    "           color=['orange','green'], angles='xy', scale_units='xy', scale=1, label='U * Σ Directions')\n",
    "# Step 6: Visual formatting\n",
    "plt.xlim(-6, 6)\n",
    "plt.ylim(-6, 6)\n",
    "plt.grid(True)\n",
    "plt.axhline(0, color='black', linewidth=0.5)\n",
    "plt.axvline(0, color='black', linewidth=0.5)\n",
    "plt.legend()\n",
    "plt.title(\"Singular Value Decomposition (SVD) Visualization in 2D\")\n",
    "plt.gca().set_aspect('equal')\n",
    "plt.show()"
   ]
  }
 ],
 "metadata": {
  "kernelspec": {
   "display_name": "Python 3 (ipykernel)",
   "language": "python",
   "name": "python3"
  },
  "language_info": {
   "codemirror_mode": {
    "name": "ipython",
    "version": 3
   },
   "file_extension": ".py",
   "mimetype": "text/x-python",
   "name": "python",
   "nbconvert_exporter": "python",
   "pygments_lexer": "ipython3",
   "version": "3.14.0"
  }
 },
 "nbformat": 4,
 "nbformat_minor": 5
}
