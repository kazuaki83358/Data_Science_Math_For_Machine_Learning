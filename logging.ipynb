{
 "cells": [
  {
   "cell_type": "code",
   "execution_count": 2,
   "id": "e7e766e5",
   "metadata": {},
   "outputs": [
    {
     "name": "stderr",
     "output_type": "stream",
     "text": [
      "DEBUG:root:This is a debug message.\n",
      "INFO:root:This is an info message.\n",
      "WARNING:root:This is a warning message.\n",
      "ERROR:root:This is an error message.\n",
      "CRITICAL:root:This is a critical message.\n"
     ]
    }
   ],
   "source": [
    "import logging\n",
    "\n",
    "# Configure logging\n",
    "logging.basicConfig(level=logging.DEBUG)\n",
    "\n",
    "# Log messages of various severity levels\n",
    "logging.debug(\"This is a debug message.\")\n",
    "logging.info(\"This is an info message.\")\n",
    "logging.warning(\"This is a warning message.\")\n",
    "logging.error(\"This is an error message.\")\n",
    "logging.critical(\"This is a critical message.\")"
   ]
  },
  {
   "cell_type": "markdown",
   "id": "df511c94",
   "metadata": {},
   "source": [
    "## Python Logging Levels\n",
    "\n",
    "Python's logging module provides five standard levels of logging, each serving a different purpose in application debugging and monitoring:\n",
    "\n",
    "1. **DEBUG (Level 10)**\n",
    "   - Most detailed logging level\n",
    "   - Used for detailed diagnostic information\n",
    "   - Helpful during development and troubleshooting\n",
    "   - Example: Variable values, function entry/exit points\n",
    "\n",
    "2. **INFO (Level 20)**\n",
    "   - General information about program execution\n",
    "   - Confirms things are working as expected\n",
    "   - Used for tracking normal program flow\n",
    "   - Example: Application startup, configuration details\n",
    "\n",
    "3. **WARNING (Level 30)**\n",
    "   - Indicates potential problems\n",
    "   - Program continues to work but needs attention\n",
    "   - Default level in Python logging\n",
    "   - Example: Deprecated feature usage, resource running low\n",
    "\n",
    "4. **ERROR (Level 40)**\n",
    "   - More serious problems\n",
    "   - Program may not perform some functions\n",
    "   - Used when the program fails to perform some function\n",
    "   - Example: Exception handling, failed operations\n",
    "\n",
    "5. **CRITICAL (Level 50)**\n",
    "   - Most severe level of logging\n",
    "   - Indicates program may not be able to continue\n",
    "   - Used for critical failures\n",
    "   - Example: Application crash, severe resource exhaustion\n",
    "\n",
    "### Usage Tips:\n",
    "- Set level with `logging.basicConfig(level=logging.LEVEL_NAME)`\n",
    "- Each level includes messages from higher levels\n",
    "- Use appropriate levels for effective debugging\n",
    "- Can be configured to output to files, console, or both"
   ]
  },
  {
   "cell_type": "code",
   "execution_count": 1,
   "id": "99f8003f",
   "metadata": {},
   "outputs": [],
   "source": [
    "import logging\n",
    "\n",
    "# configure logging to write to a file\n",
    "logging.basicConfig(\n",
    "    filename='app.log',  # specify the log file\n",
    "    filemode='w',        # 'w' to overwrite, 'a' to append\n",
    "    level=logging.DEBUG,\n",
    "    format=\"%(asctime)s - %(levelname)s - %(message)s\",\n",
    "    datefmt=\"%Y-%m-%d %H:%M:%S\"\n",
    ")\n",
    "# log messages of various severity levels   \n",
    "logging.debug(\"This is a debug message.\")\n",
    "logging.info(\"This is an info message.\")\n",
    "logging.warning(\"This is a warning message.\")\n",
    "logging.error(\"This is an error message.\")\n",
    "logging.critical(\"This is a critical message.\")"
   ]
  }
 ],
 "metadata": {
  "kernelspec": {
   "display_name": "imageenv",
   "language": "python",
   "name": "python3"
  },
  "language_info": {
   "codemirror_mode": {
    "name": "ipython",
    "version": 3
   },
   "file_extension": ".py",
   "mimetype": "text/x-python",
   "name": "python",
   "nbconvert_exporter": "python",
   "pygments_lexer": "ipython3",
   "version": "3.12.7"
  }
 },
 "nbformat": 4,
 "nbformat_minor": 5
}
