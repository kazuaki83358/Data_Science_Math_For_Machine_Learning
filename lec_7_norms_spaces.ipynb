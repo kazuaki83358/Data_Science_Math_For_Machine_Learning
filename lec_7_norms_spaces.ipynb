{
 "cells": [
  {
   "cell_type": "code",
   "execution_count": 1,
   "id": "7236a078-d3fc-45a3-954a-8317e44660ea",
   "metadata": {},
   "outputs": [],
   "source": [
    "import numpy as np"
   ]
  },
  {
   "cell_type": "code",
   "execution_count": 2,
   "id": "fcc4ce5b-06fa-4100-b8d4-c94c5d73d7ac",
   "metadata": {},
   "outputs": [],
   "source": [
    "x = np.array([3, -4, 7])"
   ]
  },
  {
   "cell_type": "code",
   "execution_count": 3,
   "id": "96ab2b21-17d5-42eb-8308-f9c146d2636f",
   "metadata": {},
   "outputs": [],
   "source": [
    "#l1 Norm\n",
    "l1 = np.linalg.norm(x,1)"
   ]
  },
  {
   "cell_type": "code",
   "execution_count": 4,
   "id": "8fbc87ab-ac4f-48c7-a66f-0279cc924cbb",
   "metadata": {},
   "outputs": [],
   "source": [
    "#l2 Norm\n",
    "l2 = np.linalg.norm(x,2)"
   ]
  },
  {
   "cell_type": "code",
   "execution_count": 5,
   "id": "add8d636-3afe-469e-8e80-9dae14d35bb2",
   "metadata": {},
   "outputs": [],
   "source": [
    "linf = np.linalg.norm(x,np.inf)"
   ]
  },
  {
   "cell_type": "code",
   "execution_count": 6,
   "id": "a4c93c31-e46e-4a13-9938-7b4278a71c33",
   "metadata": {},
   "outputs": [
    {
     "name": "stdout",
     "output_type": "stream",
     "text": [
      "L1 Norm: 14.0\n",
      "L2 Norm: 8.602325267042627\n",
      "L∞ Norm: 7.0\n"
     ]
    }
   ],
   "source": [
    "print(f\"L1 Norm: {l1}\")\n",
    "print(f\"L2 Norm: {l2}\")\n",
    "print(f\"L∞ Norm: {linf}\")"
   ]
  }
 ],
 "metadata": {
  "kernelspec": {
   "display_name": "Python 3 (ipykernel)",
   "language": "python",
   "name": "python3"
  },
  "language_info": {
   "codemirror_mode": {
    "name": "ipython",
    "version": 3
   },
   "file_extension": ".py",
   "mimetype": "text/x-python",
   "name": "python",
   "nbconvert_exporter": "python",
   "pygments_lexer": "ipython3",
   "version": "3.14.0"
  }
 },
 "nbformat": 4,
 "nbformat_minor": 5
}
