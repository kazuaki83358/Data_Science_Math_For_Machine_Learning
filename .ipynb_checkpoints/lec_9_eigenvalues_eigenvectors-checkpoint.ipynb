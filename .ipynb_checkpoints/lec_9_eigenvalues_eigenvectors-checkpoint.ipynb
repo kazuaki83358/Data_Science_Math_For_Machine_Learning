{
 "cells": [
  {
   "cell_type": "code",
   "execution_count": 19,
   "id": "420eaea9-4941-4319-91cf-93e05dcde57b",
   "metadata": {},
   "outputs": [
    {
     "name": "stdout",
     "output_type": "stream",
     "text": [
      "[[ 2 -2  3]\n",
      " [ 1  1  1]\n",
      " [ 1  3 -1]]\n"
     ]
    }
   ],
   "source": [
    "import numpy as np\n",
    "A1 = np.array([[2,-2, 3],[1, 1, 1],[1, 3, -1]])\n",
    "print(A)"
   ]
  },
  {
   "cell_type": "code",
   "execution_count": 20,
   "id": "3251724b-c525-43f1-89e7-b2b2139be30a",
   "metadata": {},
   "outputs": [],
   "source": [
    "#Calculate egenpairs\n",
    "values1 , vectors1 = np.linalg.eig(A)"
   ]
  },
  {
   "cell_type": "code",
   "execution_count": 21,
   "id": "6aade28d-dcd3-445b-8edc-5c84b84bf6e1",
   "metadata": {},
   "outputs": [
    {
     "name": "stdout",
     "output_type": "stream",
     "text": [
      "[ 3.  1. -2.]\n"
     ]
    }
   ],
   "source": [
    "print(values)"
   ]
  },
  {
   "cell_type": "code",
   "execution_count": 22,
   "id": "9566a5b3-1403-47de-8870-40bfd321937e",
   "metadata": {},
   "outputs": [
    {
     "name": "stdout",
     "output_type": "stream",
     "text": [
      "[[ 0.57735027  0.57735027 -0.61684937]\n",
      " [ 0.57735027 -0.57735027 -0.05607722]\n",
      " [ 0.57735027 -0.57735027  0.78508102]]\n"
     ]
    }
   ],
   "source": [
    "print(vectors)"
   ]
  },
  {
   "cell_type": "code",
   "execution_count": 23,
   "id": "200318a5-a4d5-4a52-a67b-07f96e4c3a73",
   "metadata": {},
   "outputs": [
    {
     "name": "stdout",
     "output_type": "stream",
     "text": [
      "[[ 2  0  0]\n",
      " [ 0  1  0]\n",
      " [ 0  0 -1]]\n"
     ]
    }
   ],
   "source": [
    "A2 = np.array([[2, 0, 0],[0, 1, 0],[0, 0, -1]])\n",
    "print(A2)"
   ]
  },
  {
   "cell_type": "code",
   "execution_count": 24,
   "id": "4cdf6370-7417-4973-b4c3-94324000c03a",
   "metadata": {},
   "outputs": [],
   "source": [
    "value2 , vectors2 = np.linalg.eig(A2)"
   ]
  },
  {
   "cell_type": "code",
   "execution_count": 25,
   "id": "ad2789cd-e511-41fb-9721-3dfd72bb6c57",
   "metadata": {},
   "outputs": [
    {
     "name": "stdout",
     "output_type": "stream",
     "text": [
      "[ 2.  1. -1.]\n"
     ]
    }
   ],
   "source": [
    "print(value2)"
   ]
  },
  {
   "cell_type": "code",
   "execution_count": 26,
   "id": "b096c9c1-5469-43b6-a157-27d7b2ed2523",
   "metadata": {},
   "outputs": [
    {
     "name": "stdout",
     "output_type": "stream",
     "text": [
      "[[1. 0. 0.]\n",
      " [0. 1. 0.]\n",
      " [0. 0. 1.]]\n"
     ]
    }
   ],
   "source": [
    "print(vectors2)"
   ]
  }
 ],
 "metadata": {
  "kernelspec": {
   "display_name": "Python 3 (ipykernel)",
   "language": "python",
   "name": "python3"
  },
  "language_info": {
   "codemirror_mode": {
    "name": "ipython",
    "version": 3
   },
   "file_extension": ".py",
   "mimetype": "text/x-python",
   "name": "python",
   "nbconvert_exporter": "python",
   "pygments_lexer": "ipython3",
   "version": "3.14.0"
  }
 },
 "nbformat": 4,
 "nbformat_minor": 5
}
