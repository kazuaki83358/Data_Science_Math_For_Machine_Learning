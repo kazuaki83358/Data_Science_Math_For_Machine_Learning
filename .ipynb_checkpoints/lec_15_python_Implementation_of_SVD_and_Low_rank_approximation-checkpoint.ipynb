{
 "cells": [
  {
   "cell_type": "code",
   "execution_count": 11,
   "id": "f780697a-b7f4-4cee-8e82-50146ef731bc",
   "metadata": {},
   "outputs": [],
   "source": [
    "import numpy as np\n",
    "np.set_printoptions(precision=4,suppress=True)"
   ]
  },
  {
   "cell_type": "code",
   "execution_count": 12,
   "id": "310925bc-6478-4968-8740-a4a7b6192b35",
   "metadata": {},
   "outputs": [
    {
     "name": "stdout",
     "output_type": "stream",
     "text": [
      "[[1 2 3 4]\n",
      " [1 1 2 3]\n",
      " [0 1 1 0]]\n"
     ]
    }
   ],
   "source": [
    "a = np.array([[1,2,3,4],[1,1,2,3],[0,1,1,0]])\n",
    "print(a)"
   ]
  },
  {
   "cell_type": "code",
   "execution_count": 13,
   "id": "b3b43efa-5bc9-430e-9cb0-eec95be43ad9",
   "metadata": {},
   "outputs": [
    {
     "data": {
      "text/plain": [
       "array([6.75094297, 1.17344125, 0.21864263])"
      ]
     },
     "execution_count": 13,
     "metadata": {},
     "output_type": "execute_result"
    }
   ],
   "source": [
    "u, s, vh = np.linalg.svd(a, full_matrices=True)\n",
    "s"
   ]
  },
  {
   "cell_type": "code",
   "execution_count": 15,
   "id": "a25b8a5a-ed0a-4f8a-8590-cb7c919a8a1f",
   "metadata": {},
   "outputs": [
    {
     "data": {
      "text/plain": [
       "array([[6.75094297, 0.        , 0.        ],\n",
       "       [0.        , 1.17344125, 0.        ],\n",
       "       [0.        , 0.        , 0.21864263]])"
      ]
     },
     "execution_count": 15,
     "metadata": {},
     "output_type": "execute_result"
    }
   ],
   "source": [
    "sd = np.diag(s)\n",
    "sd"
   ]
  },
  {
   "cell_type": "code",
   "execution_count": 17,
   "id": "2d7afff8-5787-4bb9-9697-a200e8e7d1ae",
   "metadata": {},
   "outputs": [
    {
     "data": {
      "text/plain": [
       "array([[0., 0., 0., 0.],\n",
       "       [0., 0., 0., 0.],\n",
       "       [0., 0., 0., 0.]])"
      ]
     },
     "execution_count": 17,
     "metadata": {},
     "output_type": "execute_result"
    }
   ],
   "source": [
    "b = np.zeros((3,4))\n",
    "b"
   ]
  },
  {
   "cell_type": "code",
   "execution_count": 18,
   "id": "613312fe-c26b-49ac-a3c8-4a4aafdb8912",
   "metadata": {},
   "outputs": [],
   "source": [
    "b[:,:-1] = sd"
   ]
  },
  {
   "cell_type": "code",
   "execution_count": 19,
   "id": "720fc4b6-be55-4975-a07d-79db61e14062",
   "metadata": {},
   "outputs": [
    {
     "data": {
      "text/plain": [
       "array([[6.75094297, 0.        , 0.        , 0.        ],\n",
       "       [0.        , 1.17344125, 0.        , 0.        ],\n",
       "       [0.        , 0.        , 0.21864263, 0.        ]])"
      ]
     },
     "execution_count": 19,
     "metadata": {},
     "output_type": "execute_result"
    }
   ],
   "source": [
    "sigma = b\n",
    "sigma"
   ]
  },
  {
   "cell_type": "code",
   "execution_count": 20,
   "id": "25011f9c-fffb-40c4-93bb-245dc2e37103",
   "metadata": {},
   "outputs": [
    {
     "name": "stdout",
     "output_type": "stream",
     "text": [
      "[[ 1.00000000e+00  2.00000000e+00  3.00000000e+00  4.00000000e+00]\n",
      " [ 1.00000000e+00  1.00000000e+00  2.00000000e+00  3.00000000e+00]\n",
      " [ 2.83180504e-16  1.00000000e+00  1.00000000e+00 -2.03908195e-16]]\n"
     ]
    }
   ],
   "source": [
    "print(np.dot(np.dot(u,sigma),vh))"
   ]
  },
  {
   "cell_type": "code",
   "execution_count": null,
   "id": "9667c834-c57b-4533-a535-b57bb2ab8847",
   "metadata": {},
   "outputs": [],
   "source": []
  }
 ],
 "metadata": {
  "kernelspec": {
   "display_name": "Python 3 (ipykernel)",
   "language": "python",
   "name": "python3"
  },
  "language_info": {
   "codemirror_mode": {
    "name": "ipython",
    "version": 3
   },
   "file_extension": ".py",
   "mimetype": "text/x-python",
   "name": "python",
   "nbconvert_exporter": "python",
   "pygments_lexer": "ipython3",
   "version": "3.14.0"
  }
 },
 "nbformat": 4,
 "nbformat_minor": 5
}
