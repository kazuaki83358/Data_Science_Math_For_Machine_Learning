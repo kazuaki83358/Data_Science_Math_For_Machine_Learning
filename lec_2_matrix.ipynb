{
 "cells": [
  {
   "cell_type": "code",
   "execution_count": 3,
   "id": "770dc8c1-5d8b-40b8-924f-a87f73a700dd",
   "metadata": {},
   "outputs": [
    {
     "name": "stdout",
     "output_type": "stream",
     "text": [
      "[[1 2]\n",
      " [3 4]\n",
      " [7 6]]\n"
     ]
    }
   ],
   "source": [
    "import numpy as np\n",
    "p = np.array([[1,2],[3,4],[7,6]])\n",
    "print(p)"
   ]
  },
  {
   "cell_type": "code",
   "execution_count": 4,
   "id": "97c53cbc-ffae-471c-8b09-7427a6827683",
   "metadata": {},
   "outputs": [
    {
     "name": "stdout",
     "output_type": "stream",
     "text": [
      "[[ 1  0]\n",
      " [-1  3]\n",
      " [ 5  9]]\n"
     ]
    }
   ],
   "source": [
    "q = np.array([[1,0],[-1,3],[5,9]])\n",
    "print(q)"
   ]
  },
  {
   "cell_type": "code",
   "execution_count": 6,
   "id": "e4b0b457-ef36-40a1-a98c-29e5033d4cbf",
   "metadata": {},
   "outputs": [
    {
     "name": "stdout",
     "output_type": "stream",
     "text": [
      "[[ 2  2]\n",
      " [ 2  7]\n",
      " [12 15]]\n"
     ]
    }
   ],
   "source": [
    "add = np.add(p,q)\n",
    "print(add)"
   ]
  },
  {
   "cell_type": "code",
   "execution_count": 7,
   "id": "30caef9c-0dc5-4d0d-8087-2271e1a1aeab",
   "metadata": {},
   "outputs": [
    {
     "name": "stdout",
     "output_type": "stream",
     "text": [
      "[[ 0  2]\n",
      " [ 4  1]\n",
      " [ 2 -3]]\n"
     ]
    }
   ],
   "source": [
    "subtract = np.subtract(p,q)\n",
    "print(subtract)"
   ]
  },
  {
   "cell_type": "code",
   "execution_count": 8,
   "id": "1f4c4570-de51-4396-82e1-05136e7ae245",
   "metadata": {},
   "outputs": [
    {
     "name": "stdout",
     "output_type": "stream",
     "text": [
      "[[3 4 6]\n",
      " [1 0 5]]\n"
     ]
    }
   ],
   "source": [
    "r = np.array([[3,4,6],[1,0,5]])\n",
    "print(r)"
   ]
  },
  {
   "cell_type": "code",
   "execution_count": 9,
   "id": "27e29dcf-01ff-4fc6-a254-03dcfc6d0015",
   "metadata": {},
   "outputs": [
    {
     "name": "stdout",
     "output_type": "stream",
     "text": [
      "[[ 5  4 16]\n",
      " [13 12 38]\n",
      " [27 28 72]]\n"
     ]
    }
   ],
   "source": [
    "mul = np.dot(p,r)\n",
    "print(mul)"
   ]
  },
  {
   "cell_type": "code",
   "execution_count": 10,
   "id": "4fefb7d2-0990-4ac9-836c-553fa1b5e800",
   "metadata": {},
   "outputs": [
    {
     "name": "stdout",
     "output_type": "stream",
     "text": [
      "0.0\n"
     ]
    }
   ],
   "source": [
    "det = np.linalg.det(mul)\n",
    "print(det)"
   ]
  },
  {
   "cell_type": "code",
   "execution_count": 12,
   "id": "888bf34a-2a6b-4710-9c31-56b64f851fef",
   "metadata": {},
   "outputs": [
    {
     "name": "stdout",
     "output_type": "stream",
     "text": [
      "[[-2.   1. ]\n",
      " [ 1.5 -0.5]]\n"
     ]
    }
   ],
   "source": [
    "m = np.array([[1,2],[3,4]])\n",
    "print(np.linalg.inv(m))"
   ]
  }
 ],
 "metadata": {
  "kernelspec": {
   "display_name": "Python 3 (ipykernel)",
   "language": "python",
   "name": "python3"
  },
  "language_info": {
   "codemirror_mode": {
    "name": "ipython",
    "version": 3
   },
   "file_extension": ".py",
   "mimetype": "text/x-python",
   "name": "python",
   "nbconvert_exporter": "python",
   "pygments_lexer": "ipython3",
   "version": "3.14.0"
  }
 },
 "nbformat": 4,
 "nbformat_minor": 5
}
