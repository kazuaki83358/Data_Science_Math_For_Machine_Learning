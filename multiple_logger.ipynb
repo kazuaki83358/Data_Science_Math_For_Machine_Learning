{
 "cells": [
  {
   "cell_type": "code",
   "execution_count": 1,
   "id": "d18e2208",
   "metadata": {},
   "outputs": [],
   "source": [
    "import logging\n",
    "# create a logger for module1\n",
    "logger1 = logging.getLogger('module1')\n",
    "logger1.setLevel(logging.DEBUG)\n",
    "\n",
    "# create a logger for module2\n",
    "logger2 = logging.getLogger('module2')  \n",
    "logger2.setLevel(logging.WARNING)\n",
    "\n",
    "# configure logging settings\n",
    "logging.basicConfig(\n",
    "    level=logging.DEBUG,\n",
    "    format='%(asctime)s - %(name)s - %(levelname)s - %(message)s',\n",
    "    datefmt='%Y-%m-%d %H:%M:%S'\n",
    ")"
   ]
  },
  {
   "cell_type": "markdown",
   "id": "327379ef",
   "metadata": {},
   "source": [
    "# Multiple loggers and configuration\n",
    "\n",
    "This notebook demonstrates how to create and configure multiple loggers using Python's built-in `logging` module. Key points:\n",
    "\n",
    "- Two separate logger instances are created (`module1` and `module2`). Each logger can have its own level and handlers.\n",
    "- `logger.setLevel(...)` controls the minimum severity that the logger will handle. For example, `logger1` is set to `DEBUG` so it will handle debug and higher, while `logger2` is set to `WARNING` and will ignore `INFO` and `DEBUG`.\n",
    "- `logging.basicConfig(...)` configures the root logger and the default handler(s). In this file it sets:\n",
    "  - `level=logging.DEBUG` — the root-level threshold (messages below this on the root logger are ignored)\n",
    "  - `format='%(asctime)s - %(name)s - %(levelname)s - %(message)s'` — includes timestamp, logger name, level and message\n",
    "  - `datefmt='%Y-%m-%d %H:%M:%S'` — controls how `%(asctime)s` is formatted\n",
    "\n",
    "Notes and best practices:\n",
    "- Call `logging.basicConfig(...)` early (before emitting log messages) so the root handler is configured.\n",
    "- If you need multiple outputs (console + file) or different formats per logger, add handlers explicitly (e.g., `StreamHandler`, `FileHandler`) and attach them to specific loggers instead of relying only on `basicConfig`.\n",
    "- Avoid calling `basicConfig` multiple times in the same process; it only configures the root logger once unless handlers are cleared or you reconfigure them.\n",
    "- Use meaningful logger names (e.g., module paths) so the `%(name)s` field helps identify where messages come from.\n",
    "\n",
    "Quick example of behavior in this notebook:\n",
    "- `logger1.debug(...)` and `logger1.info(...)` will appear because `logger1` is set to `DEBUG`.\n",
    "- `logger2.warning(...)` and `logger2.error(...)` will appear; `logger2` will ignore `info/debug` because it's set to `WARNING`.\n",
    "\n"
   ]
  },
  {
   "cell_type": "code",
   "execution_count": 2,
   "id": "4cc93a1e",
   "metadata": {},
   "outputs": [
    {
     "name": "stderr",
     "output_type": "stream",
     "text": [
      "2025-10-28 20:41:11 - module1 - DEBUG - Debug message from module1.\n",
      "2025-10-28 20:41:11 - module1 - INFO - Info message from module1.\n",
      "2025-10-28 20:41:11 - module2 - WARNING - Warning message from module2.\n",
      "2025-10-28 20:41:11 - module2 - ERROR - Error message from module2.\n"
     ]
    }
   ],
   "source": [
    "# log messages with different loggers\n",
    "logger1.debug(\"Debug message from module1.\")\n",
    "logger1.info(\"Info message from module1.\")\n",
    "logger2.warning(\"Warning message from module2.\")\n",
    "logger2.error(\"Error message from module2.\")"
   ]
  }
 ],
 "metadata": {
  "kernelspec": {
   "display_name": "imageenv",
   "language": "python",
   "name": "python3"
  },
  "language_info": {
   "codemirror_mode": {
    "name": "ipython",
    "version": 3
   },
   "file_extension": ".py",
   "mimetype": "text/x-python",
   "name": "python",
   "nbconvert_exporter": "python",
   "pygments_lexer": "ipython3",
   "version": "3.12.7"
  }
 },
 "nbformat": 4,
 "nbformat_minor": 5
}
