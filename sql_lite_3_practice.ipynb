{
 "cells": [
  {
   "cell_type": "code",
   "execution_count": 1,
   "id": "bce5d2a1",
   "metadata": {},
   "outputs": [],
   "source": [
    "import sqlite3 as db"
   ]
  },
  {
   "cell_type": "code",
   "execution_count": 2,
   "id": "37e74bea",
   "metadata": {},
   "outputs": [
    {
     "data": {
      "text/plain": [
       "<sqlite3.Connection at 0x25e43160220>"
      ]
     },
     "execution_count": 2,
     "metadata": {},
     "output_type": "execute_result"
    }
   ],
   "source": [
    "# connect to the database\n",
    "conn = db.connect('example.db')\n",
    "conn"
   ]
  },
  {
   "cell_type": "code",
   "execution_count": 3,
   "id": "ebe44067",
   "metadata": {},
   "outputs": [],
   "source": [
    "cursor = conn.cursor()"
   ]
  },
  {
   "cell_type": "code",
   "execution_count": 4,
   "id": "13682262",
   "metadata": {},
   "outputs": [],
   "source": [
    "# Create a table\n",
    "cursor.execute('''CREATE TABLE IF NOT EXISTS students \n",
    "                    (id INTEGER PRIMARY KEY, \n",
    "                    name TEXT NOT NULL, \n",
    "                    age INTEGER,\n",
    "                    branch TEXT\n",
    "               )\n",
    "               ''')\n",
    "conn.commit()"
   ]
  },
  {
   "cell_type": "code",
   "execution_count": 5,
   "id": "d7359a7f",
   "metadata": {},
   "outputs": [],
   "source": [
    "#insert data into the table\n",
    "cursor.execute('''INSERT INTO students (id, name, age, branch)\n",
    "                    VALUES (335, 'John Doe', 21, 'Electrical Engineering')        \n",
    "                    ''')\n",
    "\n",
    "cursor.execute('''INSERT INTO students (id, name, age, branch)\n",
    "                    VALUES (336, 'Alice', 22, 'Computer Science')        \n",
    "                    ''')\n",
    "\n",
    "cursor.execute('''INSERT INTO students (id, name, age, branch)\n",
    "                    VALUES (337, 'Bob', 23, 'Mechanical Engineering')        \n",
    "                    ''')\n",
    "conn.commit()"
   ]
  },
  {
   "cell_type": "code",
   "execution_count": 7,
   "id": "b2613f05",
   "metadata": {},
   "outputs": [
    {
     "name": "stdout",
     "output_type": "stream",
     "text": [
      "(335, 'John Doe', 21, 'Electrical Engineering')\n",
      "(336, 'Alice', 22, 'Computer Science')\n",
      "(337, 'Bob', 23, 'Mechanical Engineering')\n"
     ]
    }
   ],
   "source": [
    "# Fetch and display data\n",
    "cursor.execute('SELECT * FROM students')    \n",
    "rows = cursor.fetchall()\n",
    "\n",
    "for row in rows:\n",
    "    print(row)"
   ]
  },
  {
   "cell_type": "code",
   "execution_count": 8,
   "id": "c7117573",
   "metadata": {},
   "outputs": [],
   "source": [
    "# update data in the table\n",
    "cursor.execute('''UPDATE students\n",
    "                    SET age = 34\n",
    "                    WHERE id = 336\n",
    "                ''')\n",
    "conn.commit()"
   ]
  },
  {
   "cell_type": "code",
   "execution_count": 10,
   "id": "fe8bba3b",
   "metadata": {},
   "outputs": [
    {
     "name": "stdout",
     "output_type": "stream",
     "text": [
      "(335, 'John Doe', 21, 'Electrical Engineering')\n",
      "(336, 'Alice', 34, 'Computer Science')\n",
      "(337, 'Bob', 23, 'Mechanical Engineering')\n"
     ]
    }
   ],
   "source": [
    "# Fetch and display data\n",
    "cursor.execute('SELECT * FROM students')    \n",
    "rows = cursor.fetchall()\n",
    "\n",
    "for row in rows:\n",
    "    print(row)"
   ]
  },
  {
   "cell_type": "code",
   "execution_count": 11,
   "id": "6d5b0b3d",
   "metadata": {},
   "outputs": [],
   "source": [
    "# delete data from the table\n",
    "cursor.execute('''DELETE FROM students\n",
    "                    WHERE id = 335\n",
    "                ''')\n",
    "conn.commit()"
   ]
  },
  {
   "cell_type": "code",
   "execution_count": 12,
   "id": "2b176f1c",
   "metadata": {},
   "outputs": [
    {
     "name": "stdout",
     "output_type": "stream",
     "text": [
      "(336, 'Alice', 34, 'Computer Science')\n",
      "(337, 'Bob', 23, 'Mechanical Engineering')\n"
     ]
    }
   ],
   "source": [
    "# Fetch and display data\n",
    "cursor.execute('SELECT * FROM students')    \n",
    "rows = cursor.fetchall()\n",
    "\n",
    "for row in rows:\n",
    "    print(row)"
   ]
  },
  {
   "cell_type": "code",
   "execution_count": null,
   "id": "0bd80202",
   "metadata": {},
   "outputs": [],
   "source": []
  }
 ],
 "metadata": {
  "kernelspec": {
   "display_name": "imageenv",
   "language": "python",
   "name": "python3"
  },
  "language_info": {
   "codemirror_mode": {
    "name": "ipython",
    "version": 3
   },
   "file_extension": ".py",
   "mimetype": "text/x-python",
   "name": "python",
   "nbconvert_exporter": "python",
   "pygments_lexer": "ipython3",
   "version": "3.12.7"
  }
 },
 "nbformat": 4,
 "nbformat_minor": 5
}
